{
 "cells": [
  {
   "cell_type": "code",
   "execution_count": 1,
   "metadata": {
    "colab": {
     "base_uri": "https://localhost:8080/",
     "height": 222
    },
    "colab_type": "code",
    "executionInfo": {
     "elapsed": 98926,
     "status": "ok",
     "timestamp": 1549193114654,
     "user": {
      "displayName": "Harsh Patel",
      "photoUrl": "https://lh4.googleusercontent.com/-xVEOvhAYCwI/AAAAAAAAAAI/AAAAAAAAAAc/m8NWBboPeYY/s64/photo.jpg",
      "userId": "17018506043059870013"
     },
     "user_tz": -330
    },
    "id": "EwDVm3m-A2zc",
    "outputId": "1551a942-b314-4faa-b2f8-361973c242b0"
   },
   "outputs": [
    {
     "name": "stdout",
     "output_type": "stream",
     "text": [
      "E: Package 'python-software-properties' has no installation candidate\n",
      "Selecting previously unselected package google-drive-ocamlfuse.\n",
      "(Reading database ... 110856 files and directories currently installed.)\n",
      "Preparing to unpack .../google-drive-ocamlfuse_0.7.1-0ubuntu3~ubuntu18.04.1_amd64.deb ...\n",
      "Unpacking google-drive-ocamlfuse (0.7.1-0ubuntu3~ubuntu18.04.1) ...\n",
      "Setting up google-drive-ocamlfuse (0.7.1-0ubuntu3~ubuntu18.04.1) ...\n",
      "Processing triggers for man-db (2.8.3-2ubuntu0.1) ...\n",
      "Please, open the following URL in a web browser: https://accounts.google.com/o/oauth2/auth?client_id=32555940559.apps.googleusercontent.com&redirect_uri=urn%3Aietf%3Awg%3Aoauth%3A2.0%3Aoob&scope=https%3A%2F%2Fwww.googleapis.com%2Fauth%2Fdrive&response_type=code&access_type=offline&approval_prompt=force\n",
      "··········\n",
      "Please, open the following URL in a web browser: https://accounts.google.com/o/oauth2/auth?client_id=32555940559.apps.googleusercontent.com&redirect_uri=urn%3Aietf%3Awg%3Aoauth%3A2.0%3Aoob&scope=https%3A%2F%2Fwww.googleapis.com%2Fauth%2Fdrive&response_type=code&access_type=offline&approval_prompt=force\n",
      "Please enter the verification code: Access token retrieved correctly.\n"
     ]
    }
   ],
   "source": [
    "!apt-get install -y -qq software-properties-common python-software-properties module-init-tools\n",
    "!add-apt-repository -y ppa:alessandro-strada/ppa 2>&1 > /dev/null\n",
    "!apt-get update -qq 2>&1 > /dev/null\n",
    "!apt-get -y install -qq google-drive-ocamlfuse fuse\n",
    "from google.colab import auth\n",
    "auth.authenticate_user()\n",
    "from oauth2client.client import GoogleCredentials\n",
    "creds = GoogleCredentials.get_application_default()\n",
    "import getpass\n",
    "!google-drive-ocamlfuse -headless -id={creds.client_id} -secret={creds.client_secret} < /dev/null 2>&1 | grep URL\n",
    "vcode = getpass.getpass()\n",
    "!echo {vcode} | google-drive-ocamlfuse -headless -id={creds.client_id} -secret={creds.client_secret}"
   ]
  },
  {
   "cell_type": "code",
   "execution_count": 0,
   "metadata": {
    "colab": {},
    "colab_type": "code",
    "id": "9w15dc6-BJhJ"
   },
   "outputs": [],
   "source": [
    "!mkdir -p drive\n",
    "!google-drive-ocamlfuse drive"
   ]
  },
  {
   "cell_type": "code",
   "execution_count": 1,
   "metadata": {
    "colab": {
     "base_uri": "https://localhost:8080/",
     "height": 34
    },
    "colab_type": "code",
    "executionInfo": {
     "elapsed": 824,
     "status": "ok",
     "timestamp": 1549195084438,
     "user": {
      "displayName": "Harsh Patel",
      "photoUrl": "https://lh4.googleusercontent.com/-xVEOvhAYCwI/AAAAAAAAAAI/AAAAAAAAAAc/m8NWBboPeYY/s64/photo.jpg",
      "userId": "17018506043059870013"
     },
     "user_tz": -330
    },
    "id": "jOHbh_IQBhCZ",
    "outputId": "9f31aa31-2cbb-43aa-ebe4-8f7c7bff6024",
    "scrolled": true
   },
   "outputs": [
    {
     "name": "stdout",
     "output_type": "stream",
     "text": [
      "/home/harsh/harsh/Chess-Aries\n"
     ]
    }
   ],
   "source": [
    "import os\n",
    "print(os.getcwd())"
   ]
  },
  {
   "cell_type": "code",
   "execution_count": 2,
   "metadata": {
    "colab": {
     "base_uri": "https://localhost:8080/",
     "height": 162
    },
    "colab_type": "code",
    "executionInfo": {
     "elapsed": 1998,
     "status": "error",
     "timestamp": 1549195074943,
     "user": {
      "displayName": "Harsh Patel",
      "photoUrl": "https://lh4.googleusercontent.com/-xVEOvhAYCwI/AAAAAAAAAAI/AAAAAAAAAAc/m8NWBboPeYY/s64/photo.jpg",
      "userId": "17018506043059870013"
     },
     "user_tz": -330
    },
    "id": "52jddDUmBn9C",
    "outputId": "c28e3ab7-1631-4c2a-983b-09222705ea5e"
   },
   "outputs": [],
   "source": [
    "os.chdir('Dataset')"
   ]
  },
  {
   "cell_type": "code",
   "execution_count": 3,
   "metadata": {
    "colab": {
     "base_uri": "https://localhost:8080/",
     "height": 34
    },
    "colab_type": "code",
    "executionInfo": {
     "elapsed": 861,
     "status": "ok",
     "timestamp": 1549195088664,
     "user": {
      "displayName": "Harsh Patel",
      "photoUrl": "https://lh4.googleusercontent.com/-xVEOvhAYCwI/AAAAAAAAAAI/AAAAAAAAAAc/m8NWBboPeYY/s64/photo.jpg",
      "userId": "17018506043059870013"
     },
     "user_tz": -330
    },
    "id": "PpiCsU-aCb0b",
    "outputId": "63b98d60-50e0-414f-bb99-81021a711c32"
   },
   "outputs": [
    {
     "name": "stdout",
     "output_type": "stream",
     "text": [
      "/home/harsh/harsh/Chess-Aries/Dataset\n"
     ]
    }
   ],
   "source": [
    "print(os.getcwd())"
   ]
  },
  {
   "cell_type": "code",
   "execution_count": 4,
   "metadata": {
    "colab": {
     "base_uri": "https://localhost:8080/",
     "height": 101
    },
    "colab_type": "code",
    "executionInfo": {
     "elapsed": 2931,
     "status": "ok",
     "timestamp": 1549195092554,
     "user": {
      "displayName": "Harsh Patel",
      "photoUrl": "https://lh4.googleusercontent.com/-xVEOvhAYCwI/AAAAAAAAAAI/AAAAAAAAAAc/m8NWBboPeYY/s64/photo.jpg",
      "userId": "17018506043059870013"
     },
     "user_tz": -330
    },
    "id": "84WiYC0FCeHJ",
    "outputId": "6f11a35b-3371-4ba5-fa1e-96451acc43c5"
   },
   "outputs": [
    {
     "name": "stdout",
     "output_type": "stream",
     "text": [
      " Empty\t\t'White Pawn'\t 'Yellow Knight'   chess_train.mat\r\n",
      " New\t\t'White Queen'\t 'Yellow Pawn'\t   chess_train_final.mat\r\n",
      "'White Bishop'\t'White Rook'\t 'Yellow Queen'    saved_models\r\n",
      "'White King'\t'Yellow Bishop'  'Yellow Rook'\t   untitled.m\r\n",
      "'White Knight'\t'Yellow King'\t  _DS_Store\r\n"
     ]
    }
   ],
   "source": [
    "!ls"
   ]
  },
  {
   "cell_type": "code",
   "execution_count": 5,
   "metadata": {
    "colab": {},
    "colab_type": "code",
    "id": "tbWa8HFBCfOD"
   },
   "outputs": [
    {
     "name": "stderr",
     "output_type": "stream",
     "text": [
      "Using TensorFlow backend.\n"
     ]
    }
   ],
   "source": [
    "from __future__ import print_function\n",
    "import keras\n",
    "from keras.models import Sequential\n",
    "from keras.layers import Dense, Dropout, Flatten, Activation\n",
    "from keras.layers.normalization import BatchNormalization\n",
    "from keras.layers import Conv1D, Conv2D, MaxPooling2D, MaxPooling1D\n",
    "from keras import backend as K\n",
    "import h5py\n",
    "import numpy as np\n",
    "import scipy.io as sio\n",
    "import matplotlib.pyplot as plt"
   ]
  },
  {
   "cell_type": "code",
   "execution_count": 6,
   "metadata": {
    "colab": {},
    "colab_type": "code",
    "id": "jnjgvWdaCxwk"
   },
   "outputs": [],
   "source": [
    "batch_size = 32\n",
    "num_classes = 13\n",
    "epochs = 225"
   ]
  },
  {
   "cell_type": "code",
   "execution_count": 7,
   "metadata": {
    "colab": {
     "base_uri": "https://localhost:8080/",
     "height": 50
    },
    "colab_type": "code",
    "executionInfo": {
     "elapsed": 2424,
     "status": "ok",
     "timestamp": 1549195099888,
     "user": {
      "displayName": "Harsh Patel",
      "photoUrl": "https://lh4.googleusercontent.com/-xVEOvhAYCwI/AAAAAAAAAAI/AAAAAAAAAAc/m8NWBboPeYY/s64/photo.jpg",
      "userId": "17018506043059870013"
     },
     "user_tz": -330
    },
    "id": "BnbtkZPvDEUO",
    "outputId": "3497ff1a-1a3e-4d1c-db71-456eb7fb93f0"
   },
   "outputs": [
    {
     "name": "stdout",
     "output_type": "stream",
     "text": [
      "trainset size X: (100, 100, 3, 832)\n",
      "trainset size Y: (832, 1)\n"
     ]
    }
   ],
   "source": [
    "trainset = {}\n",
    "#f = h5py.File('chess_train.mat')\n",
    "#for k, v in f.items():\n",
    "#    trainset[k] = np.array(v)\n",
    "trainset = sio.loadmat('chess_train_final.mat')\n",
    "print(\"trainset size X:\", trainset['X'].shape)\n",
    "print(\"trainset size Y:\", trainset['Y'].shape)\n",
    "\n"
   ]
  },
  {
   "cell_type": "code",
   "execution_count": 8,
   "metadata": {
    "colab": {},
    "colab_type": "code",
    "id": "VVr0j79oDO63"
   },
   "outputs": [],
   "source": [
    "trainset['X'] = np.rollaxis(trainset['X'], axis = 3)\n",
    "#trainset['X'] = np.rollaxis(trainset['X'], axis = 3, start = 1)\n",
    "#trainset['X'] = np.rollaxis(trainset['X'], axis = 3, start = 2)\n",
    "\n",
    "#trainset['Y'] = np.rollaxis(trainset['Y'], axis = 1)\n"
   ]
  },
  {
   "cell_type": "code",
   "execution_count": 9,
   "metadata": {
    "colab": {
     "base_uri": "https://localhost:8080/",
     "height": 50
    },
    "colab_type": "code",
    "executionInfo": {
     "elapsed": 882,
     "status": "ok",
     "timestamp": 1549195101666,
     "user": {
      "displayName": "Harsh Patel",
      "photoUrl": "https://lh4.googleusercontent.com/-xVEOvhAYCwI/AAAAAAAAAAI/AAAAAAAAAAc/m8NWBboPeYY/s64/photo.jpg",
      "userId": "17018506043059870013"
     },
     "user_tz": -330
    },
    "id": "0ej-9Wy2EF-X",
    "outputId": "43d51655-9527-42fc-d1db-262755387ffa"
   },
   "outputs": [
    {
     "name": "stdout",
     "output_type": "stream",
     "text": [
      "Trainset size X: (832, 100, 100, 3)\n",
      "Trainset size Y: (832, 1)\n"
     ]
    }
   ],
   "source": [
    "print('Trainset size X:',trainset['X'].shape)\n",
    "print('Trainset size Y:',trainset['Y'].shape)"
   ]
  },
  {
   "cell_type": "code",
   "execution_count": 10,
   "metadata": {
    "colab": {},
    "colab_type": "code",
    "id": "Nd3lje75DJnD"
   },
   "outputs": [],
   "source": [
    "label = trainset['Y']"
   ]
  },
  {
   "cell_type": "code",
   "execution_count": 11,
   "metadata": {
    "colab": {},
    "colab_type": "code",
    "id": "2E0mPHTSG8YI"
   },
   "outputs": [],
   "source": [
    "# convert class vectors to binary class matrices\n",
    "trainset['Y'] = keras.utils.to_categorical(trainset['Y'], num_classes)"
   ]
  },
  {
   "cell_type": "code",
   "execution_count": 12,
   "metadata": {
    "colab": {
     "base_uri": "https://localhost:8080/",
     "height": 34
    },
    "colab_type": "code",
    "executionInfo": {
     "elapsed": 1130,
     "status": "ok",
     "timestamp": 1549195103988,
     "user": {
      "displayName": "Harsh Patel",
      "photoUrl": "https://lh4.googleusercontent.com/-xVEOvhAYCwI/AAAAAAAAAAI/AAAAAAAAAAc/m8NWBboPeYY/s64/photo.jpg",
      "userId": "17018506043059870013"
     },
     "user_tz": -330
    },
    "id": "IixP2uReHCEI",
    "outputId": "39410e01-f5cc-4ed7-b60a-257f0a460551"
   },
   "outputs": [
    {
     "name": "stdout",
     "output_type": "stream",
     "text": [
      "(832, 13)\n"
     ]
    }
   ],
   "source": [
    "print(trainset['Y'].shape)\n",
    "#print(trainset['Y'][:,0,:])"
   ]
  },
  {
   "cell_type": "code",
   "execution_count": 13,
   "metadata": {
    "colab": {},
    "colab_type": "code",
    "id": "QWVcwIrOHGH7"
   },
   "outputs": [],
   "source": [
    "#trainset['Y'] = np.rollaxis(trainset['Y'], axis = 1)"
   ]
  },
  {
   "cell_type": "code",
   "execution_count": 14,
   "metadata": {
    "colab": {
     "base_uri": "https://localhost:8080/",
     "height": 50
    },
    "colab_type": "code",
    "executionInfo": {
     "elapsed": 994,
     "status": "ok",
     "timestamp": 1549195104388,
     "user": {
      "displayName": "Harsh Patel",
      "photoUrl": "https://lh4.googleusercontent.com/-xVEOvhAYCwI/AAAAAAAAAAI/AAAAAAAAAAc/m8NWBboPeYY/s64/photo.jpg",
      "userId": "17018506043059870013"
     },
     "user_tz": -330
    },
    "id": "YEUKrgI3HkHh",
    "outputId": "1245ed08-7dda-4719-87d6-e546f792ba82"
   },
   "outputs": [
    {
     "name": "stdout",
     "output_type": "stream",
     "text": [
      "(832, 13)\n",
      "[0. 0. 0. 0. 0. 0. 0. 0. 0. 0. 0. 0. 1.]\n"
     ]
    }
   ],
   "source": [
    "print(trainset['Y'].shape)\n",
    "print(trainset['Y'][831,:])"
   ]
  },
  {
   "cell_type": "code",
   "execution_count": 15,
   "metadata": {
    "colab": {
     "base_uri": "https://localhost:8080/",
     "height": 34
    },
    "colab_type": "code",
    "executionInfo": {
     "elapsed": 839,
     "status": "ok",
     "timestamp": 1549195104390,
     "user": {
      "displayName": "Harsh Patel",
      "photoUrl": "https://lh4.googleusercontent.com/-xVEOvhAYCwI/AAAAAAAAAAI/AAAAAAAAAAc/m8NWBboPeYY/s64/photo.jpg",
      "userId": "17018506043059870013"
     },
     "user_tz": -330
    },
    "id": "2m6EB1waITkj",
    "outputId": "57bbe5fb-7c7a-4129-82b2-8a79b6b5ca3f"
   },
   "outputs": [
    {
     "name": "stdout",
     "output_type": "stream",
     "text": [
      "832 train samples\n"
     ]
    }
   ],
   "source": [
    "print(trainset['X'].shape[0], 'train samples')"
   ]
  },
  {
   "cell_type": "code",
   "execution_count": 16,
   "metadata": {
    "colab": {},
    "colab_type": "code",
    "id": "orhtce1TIOzU"
   },
   "outputs": [],
   "source": [
    "# input image dimensions\n",
    "img_rows, img_cols = 100, 100\n",
    "input_shape = (img_rows, img_cols, 3)"
   ]
  },
  {
   "cell_type": "code",
   "execution_count": 17,
   "metadata": {
    "colab": {
     "base_uri": "https://localhost:8080/",
     "height": 366
    },
    "colab_type": "code",
    "executionInfo": {
     "elapsed": 1018,
     "status": "ok",
     "timestamp": 1549195233216,
     "user": {
      "displayName": "Harsh Patel",
      "photoUrl": "https://lh4.googleusercontent.com/-xVEOvhAYCwI/AAAAAAAAAAI/AAAAAAAAAAc/m8NWBboPeYY/s64/photo.jpg",
      "userId": "17018506043059870013"
     },
     "user_tz": -330
    },
    "id": "s0IY_XEUHlp2",
    "outputId": "7c4e7e57-85d9-4ac6-f493-45dc7dfced86"
   },
   "outputs": [
    {
     "data": {
      "image/png": "[encoded data removed]",
      "text/plain": [
       "<Figure size 432x288 with 1 Axes>"
      ]
     },
     "metadata": {
      "needs_background": "light"
     },
     "output_type": "display_data"
    },
    {
     "name": "stdout",
     "output_type": "stream",
     "text": [
      "Label: B\n"
     ]
    }
   ],
   "source": [
    "# Trainset image\n",
    "#index=831\n",
    "index = np.random.randint(831)\n",
    "M1 = trainset['X'][index,:,:,:]\n",
    "plt.imshow(M1)\n",
    "plt.show()\n",
    "y = label[index,:]\n",
    "\n",
    "if y==0:\n",
    "  classes='E'\n",
    "elif y==1:\n",
    "  classes='B'\n",
    "elif y==2:\n",
    "  classes='K'\n",
    "elif y==3:\n",
    "  classes='N'\n",
    "elif y==4:\n",
    "  classes='P'\n",
    "elif y==5:\n",
    "  classes='Q'\n",
    "elif y==6:\n",
    "  classes='R'\n",
    "elif y==7:\n",
    "  classes='b'\n",
    "elif y==8:\n",
    "  classes='k'\n",
    "elif y==9:\n",
    "  classes='n'\n",
    "elif y==10:\n",
    "  classes='p'\n",
    "elif y==11:\n",
    "  classes='q'\n",
    "else:\n",
    "  classes='r'\n",
    "\n",
    "print('Label:',classes)"
   ]
  },
  {
   "cell_type": "code",
   "execution_count": 25,
   "metadata": {
    "colab": {},
    "colab_type": "code",
    "id": "UQudeduWJQGg"
   },
   "outputs": [
    {
     "name": "stdout",
     "output_type": "stream",
     "text": [
      "_________________________________________________________________\n",
      "Layer (type)                 Output Shape              Param #   \n",
      "=================================================================\n",
      "batch_normalization_2 (Batch (None, 100, 100, 3)       12        \n",
      "_________________________________________________________________\n",
      "conv2d_7 (Conv2D)            (None, 98, 98, 32)        896       \n",
      "_________________________________________________________________\n",
      "activation_9 (Activation)    (None, 98, 98, 32)        0         \n",
      "_________________________________________________________________\n",
      "conv2d_8 (Conv2D)            (None, 96, 96, 32)        9248      \n",
      "_________________________________________________________________\n",
      "activation_10 (Activation)   (None, 96, 96, 32)        0         \n",
      "_________________________________________________________________\n",
      "max_pooling2d_4 (MaxPooling2 (None, 48, 48, 32)        0         \n",
      "_________________________________________________________________\n",
      "dropout_5 (Dropout)          (None, 48, 48, 32)        0         \n",
      "_________________________________________________________________\n",
      "conv2d_9 (Conv2D)            (None, 46, 46, 64)        18496     \n",
      "_________________________________________________________________\n",
      "activation_11 (Activation)   (None, 46, 46, 64)        0         \n",
      "_________________________________________________________________\n",
      "conv2d_10 (Conv2D)           (None, 44, 44, 64)        36928     \n",
      "_________________________________________________________________\n",
      "activation_12 (Activation)   (None, 44, 44, 64)        0         \n",
      "_________________________________________________________________\n",
      "max_pooling2d_5 (MaxPooling2 (None, 22, 22, 64)        0         \n",
      "_________________________________________________________________\n",
      "dropout_6 (Dropout)          (None, 22, 22, 64)        0         \n",
      "_________________________________________________________________\n",
      "conv2d_11 (Conv2D)           (None, 20, 20, 128)       73856     \n",
      "_________________________________________________________________\n",
      "activation_13 (Activation)   (None, 20, 20, 128)       0         \n",
      "_________________________________________________________________\n",
      "conv2d_12 (Conv2D)           (None, 18, 18, 128)       147584    \n",
      "_________________________________________________________________\n",
      "activation_14 (Activation)   (None, 18, 18, 128)       0         \n",
      "_________________________________________________________________\n",
      "max_pooling2d_6 (MaxPooling2 (None, 9, 9, 128)         0         \n",
      "_________________________________________________________________\n",
      "dropout_7 (Dropout)          (None, 9, 9, 128)         0         \n",
      "_________________________________________________________________\n",
      "flatten_2 (Flatten)          (None, 10368)             0         \n",
      "_________________________________________________________________\n",
      "dense_3 (Dense)              (None, 128)               1327232   \n",
      "_________________________________________________________________\n",
      "activation_15 (Activation)   (None, 128)               0         \n",
      "_________________________________________________________________\n",
      "dropout_8 (Dropout)          (None, 128)               0         \n",
      "_________________________________________________________________\n",
      "dense_4 (Dense)              (None, 13)                1677      \n",
      "_________________________________________________________________\n",
      "activation_16 (Activation)   (None, 13)                0         \n",
      "=================================================================\n",
      "Total params: 1,615,929\n",
      "Trainable params: 1,615,923\n",
      "Non-trainable params: 6\n",
      "_________________________________________________________________\n"
     ]
    }
   ],
   "source": [
    "model = Sequential()\n",
    "model.add(BatchNormalization(input_shape = input_shape))\n",
    "model.add(Conv2D(32, (3, 3), padding = 'valid'))\n",
    "model.add(Activation('relu'))\n",
    "model.add(Conv2D(32, (3, 3), padding = 'valid'))\n",
    "model.add(Activation('relu'))\n",
    "model.add(MaxPooling2D(pool_size=(2, 2), strides = None, padding = 'valid'))\n",
    "model.add(Dropout(0.25))\n",
    "\n",
    "model.add(Conv2D(64, (3, 3), padding = 'valid'))\n",
    "model.add(Activation('relu'))\n",
    "model.add(Conv2D(64, (3, 3), padding = 'valid'))\n",
    "model.add(Activation('relu'))\n",
    "model.add(MaxPooling2D(pool_size=(2, 2), strides = None, padding = 'valid'))\n",
    "model.add(Dropout(0.25))\n",
    "\n",
    "model.add(Conv2D(128, (3, 3), padding = 'valid'))\n",
    "model.add(Activation('relu'))\n",
    "model.add(Conv2D(128, (3, 3), padding = 'valid'))\n",
    "model.add(Activation('relu'))\n",
    "model.add(MaxPooling2D(pool_size=(2, 2), strides = None, padding = 'valid'))\n",
    "model.add(Dropout(0.25))\n",
    "\n",
    "model.add(Flatten())\n",
    "model.add(Dense(128))\n",
    "model.add(Activation('relu'))\n",
    "model.add(Dropout(0.5))\n",
    "model.add(Dense(num_classes))\n",
    "model.add(Activation('softmax'))\n",
    "\n",
    "# initiate RMSprop optimizer\n",
    "opt = keras.optimizers.Adadelta(lr=1.0, rho=0.95, epsilon=None, decay=0.0)\n",
    "#opt = keras.optimizers.rmsprop(lr=0.0001, decay=1e-6)\n",
    "\n",
    "# Let's train the model using RMSprop\n",
    "model.compile(loss='categorical_crossentropy',\n",
    "              optimizer=opt,\n",
    "              metrics=['accuracy'])\n",
    "model.summary()"
   ]
  },
  {
   "cell_type": "code",
   "execution_count": 26,
   "metadata": {
    "colab": {
     "base_uri": "https://localhost:8080/",
     "height": 1042
    },
    "colab_type": "code",
    "executionInfo": {
     "elapsed": 1525288,
     "status": "ok",
     "timestamp": 1548506021371,
     "user": {
      "displayName": "Harsh Patel",
      "photoUrl": "https://lh4.googleusercontent.com/-xVEOvhAYCwI/AAAAAAAAAAI/AAAAAAAAAAc/m8NWBboPeYY/s64/photo.jpg",
      "userId": "17018506043059870013"
     },
     "user_tz": -330
    },
    "id": "rGmWYjTkKETK",
    "outputId": "4bae5454-f0f9-4ad7-bfda-530d0d191404"
   },
   "outputs": [
    {
     "name": "stdout",
     "output_type": "stream",
     "text": [
      "Epoch 1/225\n",
      "26/26 [==============================] - 1s 46ms/step - loss: 2.5505 - acc: 0.0998\n",
      "Epoch 2/225\n",
      "26/26 [==============================] - 1s 43ms/step - loss: 2.3950 - acc: 0.1502\n",
      "Epoch 3/225\n",
      "26/26 [==============================] - 1s 42ms/step - loss: 2.1865 - acc: 0.1911\n",
      "Epoch 4/225\n",
      "26/26 [==============================] - 1s 43ms/step - loss: 2.0084 - acc: 0.2163\n",
      "Epoch 5/225\n",
      "26/26 [==============================] - 1s 42ms/step - loss: 1.8364 - acc: 0.2356\n",
      "Epoch 6/225\n",
      "26/26 [==============================] - 1s 42ms/step - loss: 1.8087 - acc: 0.2680\n",
      "Epoch 7/225\n",
      "26/26 [==============================] - 1s 43ms/step - loss: 1.7528 - acc: 0.2849\n",
      "Epoch 8/225\n",
      "26/26 [==============================] - 1s 42ms/step - loss: 1.6838 - acc: 0.3161\n",
      "Epoch 9/225\n",
      "26/26 [==============================] - 1s 42ms/step - loss: 1.6789 - acc: 0.2752\n",
      "Epoch 10/225\n",
      "26/26 [==============================] - 1s 43ms/step - loss: 1.6611 - acc: 0.2704\n",
      "Epoch 11/225\n",
      "26/26 [==============================] - 1s 42ms/step - loss: 1.6440 - acc: 0.2933\n",
      "Epoch 12/225\n",
      "26/26 [==============================] - 1s 43ms/step - loss: 1.6678 - acc: 0.3017\n",
      "Epoch 13/225\n",
      "26/26 [==============================] - 1s 42ms/step - loss: 1.5980 - acc: 0.3293\n",
      "Epoch 14/225\n",
      "26/26 [==============================] - 1s 42ms/step - loss: 1.5801 - acc: 0.3197\n",
      "Epoch 15/225\n",
      "26/26 [==============================] - 1s 42ms/step - loss: 1.6236 - acc: 0.2873\n",
      "Epoch 16/225\n",
      "26/26 [==============================] - 1s 43ms/step - loss: 1.5429 - acc: 0.3317\n",
      "Epoch 17/225\n",
      "26/26 [==============================] - 1s 42ms/step - loss: 1.5240 - acc: 0.3570\n",
      "Epoch 18/225\n",
      "26/26 [==============================] - 1s 43ms/step - loss: 1.5213 - acc: 0.3594\n",
      "Epoch 19/225\n",
      "26/26 [==============================] - 1s 42ms/step - loss: 1.5331 - acc: 0.3510\n",
      "Epoch 20/225\n",
      "26/26 [==============================] - 1s 42ms/step - loss: 1.5322 - acc: 0.3522\n",
      "Epoch 21/225\n",
      "26/26 [==============================] - 1s 42ms/step - loss: 1.5375 - acc: 0.3365\n",
      "Epoch 22/225\n",
      "26/26 [==============================] - 1s 42ms/step - loss: 1.4912 - acc: 0.3606\n",
      "Epoch 23/225\n",
      "26/26 [==============================] - 1s 43ms/step - loss: 1.4728 - acc: 0.3702\n",
      "Epoch 24/225\n",
      "26/26 [==============================] - 1s 43ms/step - loss: 1.4913 - acc: 0.3618\n",
      "Epoch 25/225\n",
      "26/26 [==============================] - 1s 42ms/step - loss: 1.4654 - acc: 0.3846\n",
      "Epoch 26/225\n",
      "26/26 [==============================] - 1s 42ms/step - loss: 1.4644 - acc: 0.3738\n",
      "Epoch 27/225\n",
      "26/26 [==============================] - 1s 42ms/step - loss: 1.4555 - acc: 0.4002\n",
      "Epoch 28/225\n",
      "26/26 [==============================] - 1s 42ms/step - loss: 1.4296 - acc: 0.3666\n",
      "Epoch 29/225\n",
      "26/26 [==============================] - 1s 42ms/step - loss: 1.4213 - acc: 0.4038\n",
      "Epoch 30/225\n",
      "26/26 [==============================] - 1s 42ms/step - loss: 1.4408 - acc: 0.3690\n",
      "Epoch 31/225\n",
      "26/26 [==============================] - 1s 43ms/step - loss: 1.3976 - acc: 0.3978\n",
      "Epoch 32/225\n",
      "26/26 [==============================] - 1s 42ms/step - loss: 1.4102 - acc: 0.4062\n",
      "Epoch 33/225\n",
      "26/26 [==============================] - 1s 43ms/step - loss: 1.3674 - acc: 0.4075\n",
      "Epoch 34/225\n",
      "26/26 [==============================] - 1s 42ms/step - loss: 1.3678 - acc: 0.4135\n",
      "Epoch 35/225\n",
      "26/26 [==============================] - 1s 43ms/step - loss: 1.3722 - acc: 0.4159\n",
      "Epoch 36/225\n",
      "26/26 [==============================] - 1s 42ms/step - loss: 1.3324 - acc: 0.4603\n",
      "Epoch 37/225\n",
      "26/26 [==============================] - 1s 42ms/step - loss: 1.3320 - acc: 0.4447\n",
      "Epoch 38/225\n",
      "26/26 [==============================] - 1s 43ms/step - loss: 1.3314 - acc: 0.4327\n",
      "Epoch 39/225\n",
      "26/26 [==============================] - 1s 42ms/step - loss: 1.2850 - acc: 0.4483\n",
      "Epoch 40/225\n",
      "26/26 [==============================] - 1s 42ms/step - loss: 1.3091 - acc: 0.4447\n",
      "Epoch 41/225\n",
      "26/26 [==============================] - 1s 42ms/step - loss: 1.3249 - acc: 0.4435\n",
      "Epoch 42/225\n",
      "26/26 [==============================] - 1s 42ms/step - loss: 1.3279 - acc: 0.4411\n",
      "Epoch 43/225\n",
      "26/26 [==============================] - 1s 42ms/step - loss: 1.2914 - acc: 0.4303\n",
      "Epoch 44/225\n",
      "26/26 [==============================] - 1s 42ms/step - loss: 1.2794 - acc: 0.4471\n",
      "Epoch 45/225\n",
      "26/26 [==============================] - 1s 42ms/step - loss: 1.2414 - acc: 0.4651\n",
      "Epoch 46/225\n",
      "26/26 [==============================] - 1s 42ms/step - loss: 1.2936 - acc: 0.4387\n",
      "Epoch 47/225\n",
      "26/26 [==============================] - 1s 42ms/step - loss: 1.2209 - acc: 0.5036\n",
      "Epoch 48/225\n",
      "26/26 [==============================] - 1s 42ms/step - loss: 1.2247 - acc: 0.4483\n",
      "Epoch 49/225\n",
      "26/26 [==============================] - 1s 42ms/step - loss: 1.2142 - acc: 0.4820\n",
      "Epoch 50/225\n",
      "26/26 [==============================] - 1s 42ms/step - loss: 1.2184 - acc: 0.4880\n",
      "Epoch 51/225\n",
      "26/26 [==============================] - 1s 42ms/step - loss: 1.1998 - acc: 0.4904\n",
      "Epoch 52/225\n",
      "26/26 [==============================] - 1s 43ms/step - loss: 1.2015 - acc: 0.4832\n",
      "Epoch 53/225\n",
      "26/26 [==============================] - 1s 42ms/step - loss: 1.1811 - acc: 0.4928\n",
      "Epoch 54/225\n",
      "26/26 [==============================] - 1s 42ms/step - loss: 1.1477 - acc: 0.5180\n",
      "Epoch 55/225\n",
      "26/26 [==============================] - 1s 42ms/step - loss: 1.2171 - acc: 0.5012\n",
      "Epoch 56/225\n",
      "26/26 [==============================] - 1s 42ms/step - loss: 1.1476 - acc: 0.5060\n",
      "Epoch 57/225\n",
      "26/26 [==============================] - 1s 43ms/step - loss: 1.1153 - acc: 0.5409\n",
      "Epoch 58/225\n",
      "26/26 [==============================] - 1s 43ms/step - loss: 1.1226 - acc: 0.5252\n",
      "Epoch 59/225\n",
      "26/26 [==============================] - 1s 42ms/step - loss: 1.1892 - acc: 0.5000\n",
      "Epoch 60/225\n",
      "26/26 [==============================] - 1s 42ms/step - loss: 1.0590 - acc: 0.5493\n",
      "Epoch 61/225\n",
      "26/26 [==============================] - 1s 42ms/step - loss: 1.0361 - acc: 0.5733\n",
      "Epoch 62/225\n",
      "26/26 [==============================] - 1s 43ms/step - loss: 1.1444 - acc: 0.5288\n",
      "Epoch 63/225\n",
      "26/26 [==============================] - 1s 43ms/step - loss: 1.1018 - acc: 0.5325\n",
      "Epoch 64/225\n",
      "26/26 [==============================] - 1s 43ms/step - loss: 1.0544 - acc: 0.5601\n",
      "Epoch 65/225\n",
      "26/26 [==============================] - 1s 43ms/step - loss: 1.0390 - acc: 0.5457\n",
      "Epoch 66/225\n",
      "26/26 [==============================] - 1s 42ms/step - loss: 1.0236 - acc: 0.5757\n",
      "Epoch 67/225\n",
      "26/26 [==============================] - 1s 43ms/step - loss: 1.0267 - acc: 0.5649\n",
      "Epoch 68/225\n",
      "26/26 [==============================] - 1s 42ms/step - loss: 1.0207 - acc: 0.5493\n",
      "Epoch 69/225\n",
      "26/26 [==============================] - 1s 42ms/step - loss: 0.9897 - acc: 0.5901\n",
      "Epoch 70/225\n",
      "26/26 [==============================] - 1s 43ms/step - loss: 0.9611 - acc: 0.5709\n",
      "Epoch 71/225\n",
      "26/26 [==============================] - 1s 43ms/step - loss: 1.0098 - acc: 0.5577\n",
      "Epoch 72/225\n",
      "26/26 [==============================] - 1s 42ms/step - loss: 0.9730 - acc: 0.5889\n",
      "Epoch 73/225\n",
      "26/26 [==============================] - 1s 42ms/step - loss: 1.0255 - acc: 0.5565\n",
      "Epoch 74/225\n",
      "26/26 [==============================] - 1s 43ms/step - loss: 1.0180 - acc: 0.5950\n",
      "Epoch 75/225\n",
      "26/26 [==============================] - 1s 43ms/step - loss: 0.9745 - acc: 0.5805\n",
      "Epoch 76/225\n",
      "26/26 [==============================] - 1s 43ms/step - loss: 0.9478 - acc: 0.5661\n",
      "Epoch 77/225\n",
      "26/26 [==============================] - 1s 42ms/step - loss: 0.9653 - acc: 0.5781\n",
      "Epoch 78/225\n",
      "26/26 [==============================] - 1s 42ms/step - loss: 0.9523 - acc: 0.5962\n",
      "Epoch 79/225\n",
      "26/26 [==============================] - 1s 43ms/step - loss: 0.8868 - acc: 0.6250\n",
      "Epoch 80/225\n",
      "26/26 [==============================] - 1s 42ms/step - loss: 0.9303 - acc: 0.5986\n",
      "Epoch 81/225\n",
      "26/26 [==============================] - 1s 42ms/step - loss: 0.9122 - acc: 0.6082\n",
      "Epoch 82/225\n",
      "26/26 [==============================] - 1s 42ms/step - loss: 0.9220 - acc: 0.6070\n",
      "Epoch 83/225\n",
      "26/26 [==============================] - 1s 43ms/step - loss: 0.9092 - acc: 0.6130\n",
      "Epoch 84/225\n",
      "26/26 [==============================] - 1s 42ms/step - loss: 1.0012 - acc: 0.5962\n",
      "Epoch 85/225\n",
      "26/26 [==============================] - 1s 42ms/step - loss: 0.8982 - acc: 0.6106\n",
      "Epoch 86/225\n",
      "26/26 [==============================] - 1s 42ms/step - loss: 0.8421 - acc: 0.6587\n",
      "Epoch 87/225\n",
      "26/26 [==============================] - 1s 43ms/step - loss: 0.8562 - acc: 0.6370\n",
      "Epoch 88/225\n",
      "26/26 [==============================] - 1s 42ms/step - loss: 0.8483 - acc: 0.6430\n",
      "Epoch 89/225\n",
      "26/26 [==============================] - 1s 42ms/step - loss: 0.8555 - acc: 0.6478\n",
      "Epoch 90/225\n",
      "26/26 [==============================] - 1s 42ms/step - loss: 0.8410 - acc: 0.6310\n",
      "Epoch 91/225\n",
      "26/26 [==============================] - 1s 42ms/step - loss: 0.8541 - acc: 0.6250\n",
      "Epoch 92/225\n",
      "26/26 [==============================] - 1s 42ms/step - loss: 0.8122 - acc: 0.6623\n",
      "Epoch 93/225\n",
      "26/26 [==============================] - 1s 43ms/step - loss: 0.7772 - acc: 0.6695\n",
      "Epoch 94/225\n",
      "26/26 [==============================] - 1s 42ms/step - loss: 0.8289 - acc: 0.6430\n",
      "Epoch 95/225\n",
      "26/26 [==============================] - 1s 42ms/step - loss: 0.9147 - acc: 0.6214\n",
      "Epoch 96/225\n",
      "26/26 [==============================] - 1s 42ms/step - loss: 0.8072 - acc: 0.6671\n",
      "Epoch 97/225\n",
      "26/26 [==============================] - 1s 42ms/step - loss: 0.8055 - acc: 0.6743\n",
      "Epoch 98/225\n",
      "26/26 [==============================] - 1s 42ms/step - loss: 0.8199 - acc: 0.6406\n",
      "Epoch 99/225\n",
      "26/26 [==============================] - 1s 42ms/step - loss: 0.8539 - acc: 0.6490\n",
      "Epoch 100/225\n",
      "26/26 [==============================] - 1s 42ms/step - loss: 0.8397 - acc: 0.6611\n",
      "Epoch 101/225\n",
      "26/26 [==============================] - 1s 42ms/step - loss: 0.7875 - acc: 0.6623\n",
      "Epoch 102/225\n",
      "26/26 [==============================] - 1s 42ms/step - loss: 0.7802 - acc: 0.6791\n",
      "Epoch 103/225\n",
      "26/26 [==============================] - 1s 42ms/step - loss: 0.8055 - acc: 0.6659\n",
      "Epoch 104/225\n",
      "26/26 [==============================] - 1s 42ms/step - loss: 0.7816 - acc: 0.6695\n",
      "Epoch 105/225\n",
      "26/26 [==============================] - 1s 42ms/step - loss: 0.7700 - acc: 0.6767\n",
      "Epoch 106/225\n",
      "26/26 [==============================] - 1s 42ms/step - loss: 0.7259 - acc: 0.6899\n",
      "Epoch 107/225\n",
      "26/26 [==============================] - 1s 42ms/step - loss: 0.7245 - acc: 0.7079\n",
      "Epoch 108/225\n",
      "26/26 [==============================] - 1s 43ms/step - loss: 0.8036 - acc: 0.6719\n",
      "Epoch 109/225\n",
      "26/26 [==============================] - 1s 42ms/step - loss: 0.7324 - acc: 0.6935\n",
      "Epoch 110/225\n",
      "26/26 [==============================] - 1s 43ms/step - loss: 0.7534 - acc: 0.6863\n",
      "Epoch 111/225\n",
      "26/26 [==============================] - 1s 42ms/step - loss: 0.7677 - acc: 0.6863\n",
      "Epoch 112/225\n",
      "26/26 [==============================] - 1s 42ms/step - loss: 0.7454 - acc: 0.6623\n",
      "Epoch 113/225\n",
      "26/26 [==============================] - 1s 42ms/step - loss: 0.7201 - acc: 0.6959\n",
      "Epoch 114/225\n",
      "26/26 [==============================] - 1s 42ms/step - loss: 0.7096 - acc: 0.6959\n",
      "Epoch 115/225\n",
      "26/26 [==============================] - 1s 43ms/step - loss: 0.7539 - acc: 0.6947\n",
      "Epoch 116/225\n",
      "26/26 [==============================] - 1s 43ms/step - loss: 0.6647 - acc: 0.7356\n",
      "Epoch 117/225\n",
      "26/26 [==============================] - 1s 42ms/step - loss: 0.7252 - acc: 0.6839\n",
      "Epoch 118/225\n",
      "26/26 [==============================] - 1s 42ms/step - loss: 0.7374 - acc: 0.7043\n",
      "Epoch 119/225\n",
      "26/26 [==============================] - 1s 42ms/step - loss: 0.7132 - acc: 0.6899\n",
      "Epoch 120/225\n",
      "26/26 [==============================] - 1s 42ms/step - loss: 0.7424 - acc: 0.7091\n",
      "Epoch 121/225\n",
      "26/26 [==============================] - 1s 42ms/step - loss: 0.7063 - acc: 0.7188\n",
      "Epoch 122/225\n",
      "26/26 [==============================] - 1s 42ms/step - loss: 0.6706 - acc: 0.7200\n",
      "Epoch 123/225\n",
      "26/26 [==============================] - 1s 42ms/step - loss: 0.7167 - acc: 0.7055\n",
      "Epoch 124/225\n",
      "26/26 [==============================] - 1s 42ms/step - loss: 0.7076 - acc: 0.7163\n",
      "Epoch 125/225\n",
      "26/26 [==============================] - 1s 42ms/step - loss: 0.6278 - acc: 0.7596\n",
      "Epoch 126/225\n",
      "26/26 [==============================] - 1s 42ms/step - loss: 0.6761 - acc: 0.7151\n",
      "Epoch 127/225\n",
      "26/26 [==============================] - 1s 42ms/step - loss: 0.6176 - acc: 0.7524\n",
      "Epoch 128/225\n",
      "26/26 [==============================] - 1s 42ms/step - loss: 0.6729 - acc: 0.7320\n",
      "Epoch 129/225\n",
      "26/26 [==============================] - 1s 42ms/step - loss: 0.5913 - acc: 0.7416\n",
      "Epoch 130/225\n",
      "26/26 [==============================] - 1s 43ms/step - loss: 0.6530 - acc: 0.7212\n",
      "Epoch 131/225\n",
      "26/26 [==============================] - 1s 42ms/step - loss: 0.7201 - acc: 0.7200\n",
      "Epoch 132/225\n",
      "26/26 [==============================] - 1s 42ms/step - loss: 0.6256 - acc: 0.7440\n",
      "Epoch 133/225\n",
      "26/26 [==============================] - 1s 42ms/step - loss: 0.6968 - acc: 0.7163\n",
      "Epoch 134/225\n",
      "26/26 [==============================] - 1s 42ms/step - loss: 0.6292 - acc: 0.7644\n",
      "Epoch 135/225\n",
      "26/26 [==============================] - 1s 42ms/step - loss: 0.6450 - acc: 0.7332\n",
      "Epoch 136/225\n",
      "26/26 [==============================] - 1s 42ms/step - loss: 0.5571 - acc: 0.7644\n",
      "Epoch 137/225\n",
      "26/26 [==============================] - 1s 43ms/step - loss: 0.5882 - acc: 0.7632\n",
      "Epoch 138/225\n",
      "26/26 [==============================] - 1s 42ms/step - loss: 0.6331 - acc: 0.7380\n",
      "Epoch 139/225\n",
      "26/26 [==============================] - 1s 43ms/step - loss: 0.6096 - acc: 0.7488\n",
      "Epoch 140/225\n",
      "26/26 [==============================] - 1s 43ms/step - loss: 0.6247 - acc: 0.7260\n",
      "Epoch 141/225\n",
      "26/26 [==============================] - 1s 42ms/step - loss: 0.5932 - acc: 0.7716\n",
      "Epoch 142/225\n",
      "26/26 [==============================] - 1s 42ms/step - loss: 0.5377 - acc: 0.7788\n",
      "Epoch 143/225\n",
      "26/26 [==============================] - 1s 43ms/step - loss: 0.6629 - acc: 0.7332\n",
      "Epoch 144/225\n",
      "26/26 [==============================] - 1s 42ms/step - loss: 0.5788 - acc: 0.7764\n",
      "Epoch 145/225\n",
      "26/26 [==============================] - 1s 42ms/step - loss: 0.5793 - acc: 0.7752\n",
      "Epoch 146/225\n",
      "26/26 [==============================] - 1s 42ms/step - loss: 0.5565 - acc: 0.7812\n",
      "Epoch 147/225\n",
      "26/26 [==============================] - 1s 42ms/step - loss: 0.6107 - acc: 0.7536\n",
      "Epoch 148/225\n",
      "26/26 [==============================] - 1s 43ms/step - loss: 0.5180 - acc: 0.7800\n",
      "Epoch 149/225\n",
      "26/26 [==============================] - 1s 42ms/step - loss: 0.5864 - acc: 0.7680\n",
      "Epoch 150/225\n",
      "26/26 [==============================] - 1s 43ms/step - loss: 0.5655 - acc: 0.7668\n",
      "Epoch 151/225\n",
      "26/26 [==============================] - 1s 42ms/step - loss: 0.5441 - acc: 0.7692\n",
      "Epoch 152/225\n",
      "26/26 [==============================] - 1s 43ms/step - loss: 0.5253 - acc: 0.7885\n",
      "Epoch 153/225\n",
      "26/26 [==============================] - 1s 42ms/step - loss: 0.5574 - acc: 0.7644\n",
      "Epoch 154/225\n",
      "26/26 [==============================] - 1s 42ms/step - loss: 0.5573 - acc: 0.7897\n",
      "Epoch 155/225\n",
      "26/26 [==============================] - 1s 42ms/step - loss: 0.5660 - acc: 0.7716\n",
      "Epoch 156/225\n",
      "26/26 [==============================] - 1s 42ms/step - loss: 0.5929 - acc: 0.7488\n",
      "Epoch 157/225\n",
      "26/26 [==============================] - 1s 42ms/step - loss: 0.5042 - acc: 0.7692\n",
      "Epoch 158/225\n",
      "26/26 [==============================] - 1s 42ms/step - loss: 0.4859 - acc: 0.8017\n",
      "Epoch 159/225\n",
      "26/26 [==============================] - 1s 42ms/step - loss: 0.5521 - acc: 0.7849\n",
      "Epoch 160/225\n",
      "26/26 [==============================] - 1s 42ms/step - loss: 0.5240 - acc: 0.8077\n",
      "Epoch 161/225\n",
      "26/26 [==============================] - 1s 42ms/step - loss: 0.5335 - acc: 0.7945\n",
      "Epoch 162/225\n",
      "26/26 [==============================] - 1s 42ms/step - loss: 0.5572 - acc: 0.7837\n",
      "Epoch 163/225\n",
      "26/26 [==============================] - 1s 43ms/step - loss: 0.4830 - acc: 0.8077\n",
      "Epoch 164/225\n",
      "26/26 [==============================] - 1s 42ms/step - loss: 0.5548 - acc: 0.7849\n",
      "Epoch 165/225\n",
      "26/26 [==============================] - 1s 43ms/step - loss: 0.4794 - acc: 0.8149\n",
      "Epoch 166/225\n",
      "26/26 [==============================] - 1s 43ms/step - loss: 0.4978 - acc: 0.8089\n",
      "Epoch 167/225\n",
      "26/26 [==============================] - 1s 42ms/step - loss: 0.4544 - acc: 0.8161\n",
      "Epoch 168/225\n",
      "26/26 [==============================] - 1s 42ms/step - loss: 0.4858 - acc: 0.8053\n",
      "Epoch 169/225\n",
      "26/26 [==============================] - 1s 42ms/step - loss: 0.4975 - acc: 0.8065\n",
      "Epoch 170/225\n"
     ]
    },
    {
     "name": "stdout",
     "output_type": "stream",
     "text": [
      "26/26 [==============================] - 1s 42ms/step - loss: 0.4066 - acc: 0.8293\n",
      "Epoch 171/225\n",
      "26/26 [==============================] - 1s 43ms/step - loss: 0.4898 - acc: 0.8101\n",
      "Epoch 172/225\n",
      "26/26 [==============================] - 1s 42ms/step - loss: 0.4400 - acc: 0.8365\n",
      "Epoch 173/225\n",
      "26/26 [==============================] - 1s 43ms/step - loss: 0.4354 - acc: 0.8209\n",
      "Epoch 174/225\n",
      "26/26 [==============================] - 1s 43ms/step - loss: 0.4761 - acc: 0.8029\n",
      "Epoch 175/225\n",
      "26/26 [==============================] - 1s 42ms/step - loss: 0.4861 - acc: 0.8113\n",
      "Epoch 176/225\n",
      "26/26 [==============================] - 1s 42ms/step - loss: 0.4065 - acc: 0.8462\n",
      "Epoch 177/225\n",
      "26/26 [==============================] - 1s 42ms/step - loss: 0.5653 - acc: 0.8053\n",
      "Epoch 178/225\n",
      "26/26 [==============================] - 1s 42ms/step - loss: 0.4235 - acc: 0.8377\n",
      "Epoch 179/225\n",
      "26/26 [==============================] - 1s 42ms/step - loss: 0.4247 - acc: 0.8305\n",
      "Epoch 180/225\n",
      "26/26 [==============================] - 1s 42ms/step - loss: 0.3932 - acc: 0.8305\n",
      "Epoch 181/225\n",
      "26/26 [==============================] - 1s 42ms/step - loss: 0.4541 - acc: 0.8125\n",
      "Epoch 182/225\n",
      "26/26 [==============================] - 1s 42ms/step - loss: 0.4212 - acc: 0.8365\n",
      "Epoch 183/225\n",
      "26/26 [==============================] - 1s 42ms/step - loss: 0.3899 - acc: 0.8365\n",
      "Epoch 184/225\n",
      "26/26 [==============================] - 1s 42ms/step - loss: 0.4440 - acc: 0.8257\n",
      "Epoch 185/225\n",
      "26/26 [==============================] - 1s 42ms/step - loss: 0.4153 - acc: 0.8365\n",
      "Epoch 186/225\n",
      "26/26 [==============================] - 1s 42ms/step - loss: 0.4036 - acc: 0.8450\n",
      "Epoch 187/225\n",
      "26/26 [==============================] - 1s 42ms/step - loss: 0.4242 - acc: 0.8474\n",
      "Epoch 188/225\n",
      "26/26 [==============================] - 1s 43ms/step - loss: 0.3924 - acc: 0.8666\n",
      "Epoch 189/225\n",
      "26/26 [==============================] - 1s 43ms/step - loss: 0.3845 - acc: 0.8474\n",
      "Epoch 190/225\n",
      "26/26 [==============================] - 1s 42ms/step - loss: 0.3736 - acc: 0.8438\n",
      "Epoch 191/225\n",
      "26/26 [==============================] - 1s 42ms/step - loss: 0.3739 - acc: 0.8462\n",
      "Epoch 192/225\n",
      "26/26 [==============================] - 1s 43ms/step - loss: 0.4610 - acc: 0.8293\n",
      "Epoch 193/225\n",
      "26/26 [==============================] - 1s 42ms/step - loss: 0.3893 - acc: 0.8606\n",
      "Epoch 194/225\n",
      "26/26 [==============================] - 1s 42ms/step - loss: 0.3946 - acc: 0.8534\n",
      "Epoch 195/225\n",
      "26/26 [==============================] - 1s 42ms/step - loss: 0.4052 - acc: 0.8486\n",
      "Epoch 196/225\n",
      "26/26 [==============================] - 1s 42ms/step - loss: 0.3125 - acc: 0.8738\n",
      "Epoch 197/225\n",
      "26/26 [==============================] - 1s 43ms/step - loss: 0.3838 - acc: 0.8582\n",
      "Epoch 198/225\n",
      "26/26 [==============================] - 1s 42ms/step - loss: 0.3557 - acc: 0.8834\n",
      "Epoch 199/225\n",
      "26/26 [==============================] - 1s 42ms/step - loss: 0.3851 - acc: 0.8341\n",
      "Epoch 200/225\n",
      "26/26 [==============================] - 1s 42ms/step - loss: 0.3607 - acc: 0.8630\n",
      "Epoch 201/225\n",
      "26/26 [==============================] - 1s 42ms/step - loss: 0.3407 - acc: 0.8798\n",
      "Epoch 202/225\n",
      "26/26 [==============================] - 1s 43ms/step - loss: 0.3788 - acc: 0.8702\n",
      "Epoch 203/225\n",
      "26/26 [==============================] - 1s 42ms/step - loss: 0.4163 - acc: 0.8450\n",
      "Epoch 204/225\n",
      "26/26 [==============================] - 1s 42ms/step - loss: 0.3478 - acc: 0.8666\n",
      "Epoch 205/225\n",
      "26/26 [==============================] - 1s 42ms/step - loss: 0.3580 - acc: 0.8666\n",
      "Epoch 206/225\n",
      "26/26 [==============================] - 1s 43ms/step - loss: 0.3736 - acc: 0.8606\n",
      "Epoch 207/225\n",
      "26/26 [==============================] - 1s 42ms/step - loss: 0.3329 - acc: 0.8762\n",
      "Epoch 208/225\n",
      "26/26 [==============================] - 1s 42ms/step - loss: 0.3815 - acc: 0.8678\n",
      "Epoch 209/225\n",
      "26/26 [==============================] - 1s 42ms/step - loss: 0.2863 - acc: 0.8846\n",
      "Epoch 210/225\n",
      "26/26 [==============================] - 1s 42ms/step - loss: 0.2784 - acc: 0.9014\n",
      "Epoch 211/225\n",
      "26/26 [==============================] - 1s 42ms/step - loss: 0.3284 - acc: 0.8810\n",
      "Epoch 212/225\n",
      "26/26 [==============================] - 1s 42ms/step - loss: 0.3980 - acc: 0.8666\n",
      "Epoch 213/225\n",
      "26/26 [==============================] - 1s 42ms/step - loss: 0.2558 - acc: 0.9075\n",
      "Epoch 214/225\n",
      "26/26 [==============================] - 1s 42ms/step - loss: 0.3729 - acc: 0.8750\n",
      "Epoch 215/225\n",
      "26/26 [==============================] - 1s 43ms/step - loss: 0.2745 - acc: 0.9014\n",
      "Epoch 216/225\n",
      "26/26 [==============================] - 1s 42ms/step - loss: 0.4164 - acc: 0.8618\n",
      "Epoch 217/225\n",
      "26/26 [==============================] - 1s 42ms/step - loss: 0.3015 - acc: 0.8786\n",
      "Epoch 218/225\n",
      "26/26 [==============================] - 1s 43ms/step - loss: 0.2479 - acc: 0.9099\n",
      "Epoch 219/225\n",
      "26/26 [==============================] - 1s 43ms/step - loss: 0.3158 - acc: 0.8870\n",
      "Epoch 220/225\n",
      "26/26 [==============================] - 1s 42ms/step - loss: 0.2146 - acc: 0.9243\n",
      "Epoch 221/225\n",
      "26/26 [==============================] - 1s 43ms/step - loss: 0.3047 - acc: 0.8882\n",
      "Epoch 222/225\n",
      "26/26 [==============================] - 1s 42ms/step - loss: 0.2412 - acc: 0.9159\n",
      "Epoch 223/225\n",
      "26/26 [==============================] - 1s 42ms/step - loss: 0.3642 - acc: 0.8774\n",
      "Epoch 224/225\n",
      "26/26 [==============================] - 1s 42ms/step - loss: 0.3162 - acc: 0.8930\n",
      "Epoch 225/225\n",
      "26/26 [==============================] - 1s 42ms/step - loss: 0.2497 - acc: 0.9099\n"
     ]
    },
    {
     "data": {
      "text/plain": [
       "<keras.callbacks.History at 0x7efc807e9dd8>"
      ]
     },
     "execution_count": 26,
     "metadata": {},
     "output_type": "execute_result"
    }
   ],
   "source": [
    "from keras.preprocessing.image import ImageDataGenerator\n",
    "\n",
    "datagen = ImageDataGenerator(\n",
    "        rotation_range=40,\n",
    "        width_shift_range=0.2,\n",
    "        height_shift_range=0.2,\n",
    "        shear_range=0.2,\n",
    "        zoom_range=0.2,\n",
    "        horizontal_flip=True,\n",
    "        fill_mode='nearest')\n",
    "\n",
    "#datagen = ImageDataGenerator(\n",
    "#    featurewise_center=True,\n",
    "#    featurewise_std_normalization=True,\n",
    "#    rotation_range=20,\n",
    "#    width_shift_range=0.2,\n",
    "#    height_shift_range=0.2,\n",
    "#    horizontal_flip=True)\n",
    "\n",
    "datagen.fit(trainset['X'])\n",
    "\n",
    "model.fit_generator(datagen.flow(trainset['X'], trainset['Y'], batch_size=32),\n",
    "                    steps_per_epoch=len(trainset['X']) / 32, epochs=epochs)\n",
    "\n",
    "\n",
    "#model.fit(trainset['X'], trainset['Y'],\n",
    "#          batch_size=batch_size,\n",
    "#          epochs=epochs,\n",
    "#          verbose=1,\n",
    "#         )"
   ]
  },
  {
   "cell_type": "code",
   "execution_count": 45,
   "metadata": {
    "colab": {
     "base_uri": "https://localhost:8080/",
     "height": 34
    },
    "colab_type": "code",
    "executionInfo": {
     "elapsed": 6540,
     "status": "ok",
     "timestamp": 1548506035334,
     "user": {
      "displayName": "Harsh Patel",
      "photoUrl": "https://lh4.googleusercontent.com/-xVEOvhAYCwI/AAAAAAAAAAI/AAAAAAAAAAc/m8NWBboPeYY/s64/photo.jpg",
      "userId": "17018506043059870013"
     },
     "user_tz": -330
    },
    "id": "a24yFFmdKLZV",
    "outputId": "69e2709c-cf94-469b-f4ed-7d390e1eef5c"
   },
   "outputs": [
    {
     "name": "stdout",
     "output_type": "stream",
     "text": [
      "Saved trained model at /home/harsh/harsh/Chess-Aries/Dataset/saved_models/trained_model_final_bs32_225_dg.h5 \n"
     ]
    }
   ],
   "source": [
    "save_dir = os.path.join(os.getcwd(), 'saved_models')\n",
    "model_name = 'trained_model_final_bs32_225_dg.h5'\n",
    "\n",
    "if not os.path.isdir(save_dir):\n",
    "    os.makedirs(save_dir)\n",
    "    \n",
    "model_path = os.path.join(save_dir, model_name)\n",
    "model.save(model_path)\n",
    "print('Saved trained model at %s ' % model_path)\n"
   ]
  },
  {
   "cell_type": "code",
   "execution_count": 18,
   "metadata": {
    "colab": {},
    "colab_type": "code",
    "id": "6_PFiznYLa1i"
   },
   "outputs": [],
   "source": [
    "from keras.models import load_model\n",
    "\n",
    "import numpy as np\n",
    "\n",
    "opt = keras.optimizers.Adadelta(lr=1.0, rho=0.95, epsilon=None, decay=0.0)\n",
    "model = load_model('saved_models/trained_model_final_bs32_225_dg.h5')\n",
    "\n",
    "model.compile(loss='binary_crossentropy',\n",
    "              optimizer=opt,\n",
    "              metrics=['accuracy'])\n"
   ]
  },
  {
   "cell_type": "code",
   "execution_count": 19,
   "metadata": {},
   "outputs": [
    {
     "name": "stdout",
     "output_type": "stream",
     "text": [
      "_________________________________________________________________\n",
      "Layer (type)                 Output Shape              Param #   \n",
      "=================================================================\n",
      "batch_normalization_2 (Batch (None, 100, 100, 3)       12        \n",
      "_________________________________________________________________\n",
      "conv2d_7 (Conv2D)            (None, 98, 98, 32)        896       \n",
      "_________________________________________________________________\n",
      "activation_9 (Activation)    (None, 98, 98, 32)        0         \n",
      "_________________________________________________________________\n",
      "conv2d_8 (Conv2D)            (None, 96, 96, 32)        9248      \n",
      "_________________________________________________________________\n",
      "activation_10 (Activation)   (None, 96, 96, 32)        0         \n",
      "_________________________________________________________________\n",
      "max_pooling2d_4 (MaxPooling2 (None, 48, 48, 32)        0         \n",
      "_________________________________________________________________\n",
      "dropout_5 (Dropout)          (None, 48, 48, 32)        0         \n",
      "_________________________________________________________________\n",
      "conv2d_9 (Conv2D)            (None, 46, 46, 64)        18496     \n",
      "_________________________________________________________________\n",
      "activation_11 (Activation)   (None, 46, 46, 64)        0         \n",
      "_________________________________________________________________\n",
      "conv2d_10 (Conv2D)           (None, 44, 44, 64)        36928     \n",
      "_________________________________________________________________\n",
      "activation_12 (Activation)   (None, 44, 44, 64)        0         \n",
      "_________________________________________________________________\n",
      "max_pooling2d_5 (MaxPooling2 (None, 22, 22, 64)        0         \n",
      "_________________________________________________________________\n",
      "dropout_6 (Dropout)          (None, 22, 22, 64)        0         \n",
      "_________________________________________________________________\n",
      "conv2d_11 (Conv2D)           (None, 20, 20, 128)       73856     \n",
      "_________________________________________________________________\n",
      "activation_13 (Activation)   (None, 20, 20, 128)       0         \n",
      "_________________________________________________________________\n",
      "conv2d_12 (Conv2D)           (None, 18, 18, 128)       147584    \n",
      "_________________________________________________________________\n",
      "activation_14 (Activation)   (None, 18, 18, 128)       0         \n",
      "_________________________________________________________________\n",
      "max_pooling2d_6 (MaxPooling2 (None, 9, 9, 128)         0         \n",
      "_________________________________________________________________\n",
      "dropout_7 (Dropout)          (None, 9, 9, 128)         0         \n",
      "_________________________________________________________________\n",
      "flatten_2 (Flatten)          (None, 10368)             0         \n",
      "_________________________________________________________________\n",
      "dense_3 (Dense)              (None, 128)               1327232   \n",
      "_________________________________________________________________\n",
      "activation_15 (Activation)   (None, 128)               0         \n",
      "_________________________________________________________________\n",
      "dropout_8 (Dropout)          (None, 128)               0         \n",
      "_________________________________________________________________\n",
      "dense_4 (Dense)              (None, 13)                1677      \n",
      "_________________________________________________________________\n",
      "activation_16 (Activation)   (None, 13)                0         \n",
      "=================================================================\n",
      "Total params: 1,615,929\n",
      "Trainable params: 1,615,923\n",
      "Non-trainable params: 6\n",
      "_________________________________________________________________\n"
     ]
    }
   ],
   "source": [
    "model.summary()"
   ]
  },
  {
   "cell_type": "code",
   "execution_count": 22,
   "metadata": {
    "colab": {
     "base_uri": "https://localhost:8080/",
     "height": 3210
    },
    "colab_type": "code",
    "executionInfo": {
     "elapsed": 3039,
     "status": "ok",
     "timestamp": 1549195783244,
     "user": {
      "displayName": "Harsh Patel",
      "photoUrl": "https://lh4.googleusercontent.com/-xVEOvhAYCwI/AAAAAAAAAAI/AAAAAAAAAAc/m8NWBboPeYY/s64/photo.jpg",
      "userId": "17018506043059870013"
     },
     "user_tz": -330
    },
    "id": "8RDd5T9oOKpZ",
    "outputId": "7a320a50-003d-4e14-c7ca-6a25c00553cf"
   },
   "outputs": [
    {
     "name": "stdout",
     "output_type": "stream",
     "text": [
      "(100, 100, 3)\n"
     ]
    },
    {
     "data": {
      "image/png": "[encoded data removed]",
      "text/plain": [
       "<Figure size 432x288 with 1 Axes>"
      ]
     },
     "metadata": {
      "needs_background": "light"
     },
     "output_type": "display_data"
    },
    {
     "name": "stdout",
     "output_type": "stream",
     "text": [
      "(1, 100, 100, 3)\n",
      "[12]\n",
      "r\n",
      "(100, 100, 3)\n"
     ]
    },
    {
     "data": {
      "image/png": "[encoded data removed]",
      "text/plain": [
       "<Figure size 432x288 with 1 Axes>"
      ]
     },
     "metadata": {
      "needs_background": "light"
     },
     "output_type": "display_data"
    },
    {
     "name": "stdout",
     "output_type": "stream",
     "text": [
      "(1, 100, 100, 3)\n",
      "[9]\n",
      "n\n",
      "(100, 100, 3)\n"
     ]
    },
    {
     "data": {
      "image/png": "[encoded data removed]",
      "text/plain": [
       "<Figure size 432x288 with 1 Axes>"
      ]
     },
     "metadata": {
      "needs_background": "light"
     },
     "output_type": "display_data"
    },
    {
     "name": "stdout",
     "output_type": "stream",
     "text": [
      "(1, 100, 100, 3)\n",
      "[7]\n",
      "b\n",
      "(100, 100, 3)\n"
     ]
    },
    {
     "data": {
      "image/png": "[encoded data removed]",
      "text/plain": [
       "<Figure size 432x288 with 1 Axes>"
      ]
     },
     "metadata": {
      "needs_background": "light"
     },
     "output_type": "display_data"
    },
    {
     "name": "stdout",
     "output_type": "stream",
     "text": [
      "(1, 100, 100, 3)\n",
      "[8]\n",
      "k\n",
      "(100, 100, 3)\n"
     ]
    },
    {
     "data": {
      "image/png": "[encoded data removed]",
      "text/plain": [
       "<Figure size 432x288 with 1 Axes>"
      ]
     },
     "metadata": {
      "needs_background": "light"
     },
     "output_type": "display_data"
    },
    {
     "name": "stdout",
     "output_type": "stream",
     "text": [
      "(1, 100, 100, 3)\n",
      "[11]\n",
      "q\n",
      "(100, 100, 3)\n"
     ]
    },
    {
     "data": {
      "image/png": "[encoded data removed]",
      "text/plain": [
       "<Figure size 432x288 with 1 Axes>"
      ]
     },
     "metadata": {
      "needs_background": "light"
     },
     "output_type": "display_data"
    },
    {
     "name": "stdout",
     "output_type": "stream",
     "text": [
      "(1, 100, 100, 3)\n",
      "[7]\n",
      "b\n",
      "(100, 100, 3)\n"
     ]
    },
    {
     "data": {
      "image/png": "[encoded data removed]",
      "text/plain": [
       "<Figure size 432x288 with 1 Axes>"
      ]
     },
     "metadata": {
      "needs_background": "light"
     },
     "output_type": "display_data"
    },
    {
     "name": "stdout",
     "output_type": "stream",
     "text": [
      "(1, 100, 100, 3)\n",
      "[9]\n",
      "n\n",
      "(100, 100, 3)\n"
     ]
    },
    {
     "data": {
      "image/png": "[encoded data removed]",
      "text/plain": [
       "<Figure size 432x288 with 1 Axes>"
      ]
     },
     "metadata": {
      "needs_background": "light"
     },
     "output_type": "display_data"
    },
    {
     "name": "stdout",
     "output_type": "stream",
     "text": [
      "(1, 100, 100, 3)\n",
      "[12]\n",
      "r\n"
     ]
    }
   ],
   "source": [
    "#import sys\n",
    "from PIL import Image\n",
    "#sys.modules['Image'] = Image \n",
    "\n",
    "#index = np.random.randint(63)\n",
    "#from keras.preprocessing import image\n",
    "\n",
    "l = [None] * 64\n",
    "\n",
    "for r in range(1,9):\n",
    "  img = Image.open('New/opencv_frame1_'+str(r)+'.jpg')\n",
    "  img = np.array(img)\n",
    "  img = np.reshape(img,(100,100,3))\n",
    "  #y = image.img_to_array(img)\n",
    "\n",
    "  #print(y.shape)\n",
    "  print(img.shape)\n",
    "\n",
    "  plt.imshow(img)\n",
    "  plt.show()\n",
    "  img = np.reshape(img,(1,100,100,3))\n",
    "  print(img.shape)\n",
    "\n",
    "  y = model.predict_classes(img)\n",
    "  print(y)\n",
    "\n",
    "  if y==0:\n",
    "    classes='E'\n",
    "  elif y==1:\n",
    "    classes='B'\n",
    "  elif y==2:\n",
    "    classes='K'\n",
    "  elif y==3:\n",
    "    classes='N'\n",
    "  elif y==4:\n",
    "    classes='P'\n",
    "  elif y==5:\n",
    "    classes='Q'\n",
    "  elif y==6:\n",
    "    classes='R'\n",
    "  elif y==7:\n",
    "    classes='b'\n",
    "  elif y==8:\n",
    "    classes='k'\n",
    "  elif y==9:\n",
    "    classes='n'\n",
    "  elif y==10:\n",
    "    classes='p'\n",
    "  elif y==11:\n",
    "    classes='q'\n",
    "  else:\n",
    "    classes='r'\n",
    "\n",
    "\n",
    "  print(classes)\n",
    "  \n",
    "  l[r-1]=classes"
   ]
  },
  {
   "cell_type": "code",
   "execution_count": 23,
   "metadata": {
    "colab": {
     "base_uri": "https://localhost:8080/",
     "height": 1092
    },
    "colab_type": "code",
    "executionInfo": {
     "elapsed": 987,
     "status": "ok",
     "timestamp": 1549195562180,
     "user": {
      "displayName": "Harsh Patel",
      "photoUrl": "https://lh4.googleusercontent.com/-xVEOvhAYCwI/AAAAAAAAAAI/AAAAAAAAAAc/m8NWBboPeYY/s64/photo.jpg",
      "userId": "17018506043059870013"
     },
     "user_tz": -330
    },
    "id": "G-1AGdLvKWh_",
    "outputId": "37fc10aa-aaee-45e0-d94d-e3d3aee76de1"
   },
   "outputs": [
    {
     "data": {
      "text/plain": [
       "['r',\n",
       " 'n',\n",
       " 'b',\n",
       " 'k',\n",
       " 'q',\n",
       " 'b',\n",
       " 'n',\n",
       " 'r',\n",
       " None,\n",
       " None,\n",
       " None,\n",
       " None,\n",
       " None,\n",
       " None,\n",
       " None,\n",
       " None,\n",
       " None,\n",
       " None,\n",
       " None,\n",
       " None,\n",
       " None,\n",
       " None,\n",
       " None,\n",
       " None,\n",
       " None,\n",
       " None,\n",
       " None,\n",
       " None,\n",
       " None,\n",
       " None,\n",
       " None,\n",
       " None,\n",
       " None,\n",
       " None,\n",
       " None,\n",
       " None,\n",
       " None,\n",
       " None,\n",
       " None,\n",
       " None,\n",
       " None,\n",
       " None,\n",
       " None,\n",
       " None,\n",
       " None,\n",
       " None,\n",
       " None,\n",
       " None,\n",
       " None,\n",
       " None,\n",
       " None,\n",
       " None,\n",
       " None,\n",
       " None,\n",
       " None,\n",
       " None,\n",
       " None,\n",
       " None,\n",
       " None,\n",
       " None,\n",
       " None,\n",
       " None,\n",
       " None,\n",
       " None]"
      ]
     },
     "execution_count": 23,
     "metadata": {},
     "output_type": "execute_result"
    }
   ],
   "source": [
    "l"
   ]
  },
  {
   "cell_type": "code",
   "execution_count": 0,
   "metadata": {
    "colab": {},
    "colab_type": "code",
    "id": "ZEkYT15lOoTk"
   },
   "outputs": [],
   "source": []
  }
 ],
 "metadata": {
  "accelerator": "TPU",
  "colab": {
   "collapsed_sections": [],
   "name": "Pieces.ipynb",
   "provenance": [],
   "version": "0.3.2"
  },
  "kernelspec": {
   "display_name": "Python 3",
   "language": "python",
   "name": "python3"
  },
  "language_info": {
   "codemirror_mode": {
    "name": "ipython",
    "version": 3
   },
   "file_extension": ".py",
   "mimetype": "text/x-python",
   "name": "python",
   "nbconvert_exporter": "python",
   "pygments_lexer": "ipython3",
   "version": "3.6.8"
  }
 },
 "nbformat": 4,
 "nbformat_minor": 1
}
